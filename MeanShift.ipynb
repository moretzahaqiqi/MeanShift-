{
 "cells": [
  {
   "cell_type": "code",
   "execution_count": 1,
   "id": "73a42456-0656-4fa4-aeaa-b530777a3995",
   "metadata": {},
   "outputs": [
    {
     "name": "stdout",
     "output_type": "stream",
     "text": [
      "Best bandwidth: 1.157, Silhouette Score: 0.702\n"
     ]
    },
    {
     "data": {
      "image/png": "[encoded data removed]",
      "text/plain": [
       "<Figure size 500x500 with 1 Axes>"
      ]
     },
     "metadata": {},
     "output_type": "display_data"
    }
   ],
   "source": [
    " import rasterio\n",
    "import numpy as np\n",
    "import matplotlib.pyplot as plt\n",
    "from sklearn.cluster import MeanShift, estimate_bandwidth\n",
    "from sklearn.metrics import silhouette_score\n",
    "\n",
    "with rasterio.open('GRAY_HR_SR_OB.tif') as src:\n",
    "    image_arr = src.read()\n",
    "\n",
    "sub_image = image_arr[0][3120:3170, 13750:13800]\n",
    "X = sub_image.reshape(-1, 1)\n",
    "\n",
    "bandwidth = estimate_bandwidth(X, quantile=0.2, n_samples=500)\n",
    "\n",
    "best_score = -1\n",
    "best_bw = bandwidth\n",
    "best_labels = None\n",
    "\n",
    "for bw in np.linspace(bandwidth*0.5, bandwidth*1.5, 5):\n",
    "    ms = MeanShift(bandwidth=bw)\n",
    "    labels = ms.fit_predict(X)\n",
    "    if len(set(labels)) > 1:\n",
    "        score = silhouette_score(X, labels)\n",
    "        if score > best_score:\n",
    "            best_score = score\n",
    "            best_bw = bw\n",
    "            best_labels = labels\n",
    "\n",
    "print(f'Best bandwidth: {best_bw}, Silhouette Score: {best_score:.3f}')\n",
    "\n",
    "clustered_img = best_labels.reshape(sub_image.shape)\n",
    "plt.figure(figsize=(5,5))\n",
    "plt.title(f'MeanShift Clustering (bandwidth={best_bw:.2f})')\n",
    "plt.imshow(clustered_img, cmap='tab20')\n",
    "plt.axis('off')\n",
    "plt.show()"
   ]
  },
  {
   "cell_type": "code",
   "execution_count": null,
   "id": "89f7b3ce-960d-447e-a8c4-bd248a69b680",
   "metadata": {},
   "outputs": [],
   "source": []
  }
 ],
 "metadata": {
  "kernelspec": {
   "display_name": "Python 3 (ipykernel)",
   "language": "python",
   "name": "python3"
  },
  "language_info": {
   "codemirror_mode": {
    "name": "ipython",
    "version": 3
   },
   "file_extension": ".py",
   "mimetype": "text/x-python",
   "name": "python",
   "nbconvert_exporter": "python",
   "pygments_lexer": "ipython3",
   "version": "3.12.7"
  }
 },
 "nbformat": 4,
 "nbformat_minor": 5
}
